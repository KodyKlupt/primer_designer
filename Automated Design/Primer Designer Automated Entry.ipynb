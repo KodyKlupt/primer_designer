{
 "cells": [
  {
   "cell_type": "code",
   "execution_count": null,
   "metadata": {},
   "outputs": [],
   "source": [
    "#@title First install the primers package.\n",
    "\n",
    "%pip install primers\n",
    "%pip install biopython \n",
    "%pip install pandas\n",
    "\n",
    "\n",
    "import primers\n",
    "import Bio\n",
    "import pandas as pd\n",
    "import time\n"
   ]
  },
  {
   "cell_type": "code",
   "execution_count": null,
   "metadata": {},
   "outputs": [],
   "source": [
    "\n",
    "from primers import create\n",
    "from Bio.Seq import Seq\n",
    "from pandas import DataFrame, read_csv\n",
    "import os\n",
    "\n",
    "\n",
    "prefix = str(input(\"Please Enter A Forward Region!\"))\n",
    "suffix = str(input(\"Please Enter A Reverse Region!\"))\n",
    "revseq = Seq(suffix) ##handle the sequence using the biopython seq class\n",
    "revseq = revseq.reverse_complement() ##this turns the suffix into the reverse complement before it is appended to the primer\n",
    "\n",
    "primer_dictionary = {} ##create an empty dictionary\n",
    "primer_log = {} ##create an empty dictionary\n",
    "\n",
    "for file in os.listdir():\n",
    "  if file.endswith(\".csv\"):\n",
    "    file = pd.read_csv(file)\n",
    "    file = file.set_index('Name') ##set the index to the name column  \n",
    "    print(file) ##print the data\n",
    "    for i in file.index: ##for each row in the data\n",
    "      sequence_input = file.loc[i, 'Sequence'] ##set the sequence input to the sequence column\n",
    "      fwd,rev = create(sequence_input,add_fwd=prefix, add_rev=revseq) ##primers function\n",
    "\n",
    "      primer_dictionary[i + \"fwd\"] = [fwd.seq] ##add the primers to the dictionary\n",
    "      primer_dictionary[i + \"rev\"] = [rev.seq]\n",
    "\n",
    "      primer_log[i + \"fwd\"] = [fwd]\n",
    "      primer_log[i + \"rev\"] = [rev] \n",
    "  else:\n",
    "    print(\"No CSV files found in directory\")\n",
    "  continue\n",
    "\n",
    "\n",
    "print(\"You have finished designing your primers!\")\n",
    "\n",
    "df_primers = pd.DataFrame.from_dict(primer_dictionary, orient='index') ##create a dataframe from the dictionary\n",
    "print(df_primers) ##print the dataframe\n",
    "df_log = pd.DataFrame.from_dict(primer_log, orient='index')\n",
    "\n",
    "timestr = time.strftime(\"%Y%m%d-%H%M%S\") ##operation to print file name with date and time\n",
    "df_primers.to_csv('primers' + timestr + '.csv')\n",
    "df_log.to_csv('primer_log' + timestr + '.csv')\n",
    "\n",
    "\n",
    "\n",
    "  \n"
   ]
  }
 ],
 "metadata": {
  "kernelspec": {
   "display_name": "Python 3",
   "language": "python",
   "name": "python3"
  },
  "language_info": {
   "codemirror_mode": {
    "name": "ipython",
    "version": 3
   },
   "file_extension": ".py",
   "mimetype": "text/x-python",
   "name": "python",
   "nbconvert_exporter": "python",
   "pygments_lexer": "ipython3",
   "version": "3.11.7"
  }
 },
 "nbformat": 4,
 "nbformat_minor": 2
}
