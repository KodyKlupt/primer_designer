{
 "cells": [
  {
   "cell_type": "code",
   "execution_count": 2,
   "metadata": {},
   "outputs": [
    {
     "name": "stdout",
     "output_type": "stream",
     "text": [
      "Requirement already satisfied: primers in c:\\users\\kodyk\\anaconda3\\lib\\site-packages (0.5.4)\n",
      "Requirement already satisfied: seqfold>=0.7.3 in c:\\users\\kodyk\\anaconda3\\lib\\site-packages (from primers) (0.7.17)\n",
      "Note: you may need to restart the kernel to use updated packages.\n",
      "Requirement already satisfied: biopython in c:\\users\\kodyk\\anaconda3\\lib\\site-packages (1.81)\n",
      "Requirement already satisfied: numpy in c:\\users\\kodyk\\anaconda3\\lib\\site-packages (from biopython) (1.25.0)\n",
      "Note: you may need to restart the kernel to use updated packages.\n",
      "Requirement already satisfied: pandas in c:\\users\\kodyk\\anaconda3\\lib\\site-packages (1.5.3)\n",
      "Requirement already satisfied: python-dateutil>=2.8.1 in c:\\users\\kodyk\\anaconda3\\lib\\site-packages (from pandas) (2.8.2)\n",
      "Requirement already satisfied: pytz>=2020.1 in c:\\users\\kodyk\\anaconda3\\lib\\site-packages (from pandas) (2022.7)\n",
      "Requirement already satisfied: numpy>=1.21.0 in c:\\users\\kodyk\\anaconda3\\lib\\site-packages (from pandas) (1.25.0)\n",
      "Requirement already satisfied: six>=1.5 in c:\\users\\kodyk\\anaconda3\\lib\\site-packages (from python-dateutil>=2.8.1->pandas) (1.16.0)\n",
      "Note: you may need to restart the kernel to use updated packages.\n"
     ]
    }
   ],
   "source": [
    "#@title First install the primers package.\n",
    "\n",
    "%pip install primers\n",
    "%pip install biopython \n",
    "%pip install pandas\n",
    "\n",
    "\n",
    "import primers\n",
    "import Bio\n",
    "import pandas as pd\n",
    "import time\n"
   ]
  },
  {
   "cell_type": "code",
   "execution_count": 4,
   "metadata": {},
   "outputs": [
    {
     "name": "stdout",
     "output_type": "stream",
     "text": [
      "                                                        Sequence\n",
      "Name                                                            \n",
      "FulllengthFWD  ATGGTTAACTTTACCGTGGACCAGATCCGTGCGATTATGGATAAGA...\n",
      "1to3FWD        ATGGTTAACTTTACCGTGGACCAGATCCGTGCGATTATGGATAAGA...\n",
      "2to4FWD        TATGCGTTTGGTCGTGTTTTCAGCGGCCTGGTTAGCACCGGTCTGA...\n",
      "3to5FWD        CCGGTTGTGCGTGTTGCGGTGGAAGCGAAAAACCCGGCGGACCTGC...\n"
     ]
    }
   ],
   "source": [
    "\n",
    "from primers import create\n",
    "from Bio.Seq import Seq\n",
    "from pandas import DataFrame, read_csv\n",
    "\n",
    "imported_data = pd.read_csv(input(\"Import the file name!\")) ##import the data from the csv file\n",
    "imported_data = imported_data.set_index('Name') ##set the index to the name column  \n",
    "print(imported_data) ##print the data\n",
    "\n",
    "prefix = str(input(\"Please Enter A Forward Region!\"))\n",
    "suffix = str(input(\"Please Enter A Reverse Region!\"))\n",
    "revseq = Seq(suffix) ##handle the sequence using the biopython seq class\n",
    "revseq = revseq.reverse_complement() ##this turns the suffix into the reverse complement before it is appended to the primer\n",
    "\n",
    "primer_dictionary = {} ##create an empty dictionary\n",
    "primer_log = {} ##create an empty dictionary\n",
    "\n",
    "for i in imported_data.index: ##for each row in the data\n",
    "  sequence_input = imported_data.loc[i, 'Sequence'] ##set the sequence input to the sequence column\n",
    "  fwd,rev = create(sequence_input,add_fwd=prefix, add_rev=revseq) ##primers function\n",
    "\n",
    "  primer_dictionary[i + \"fwd\"] = [fwd.seq] ##add the primers to the dictionary\n",
    "  primer_dictionary[i + \"rev\"] = [rev.seq]\n",
    "\n",
    "  primer_log[i + \"fwd\"] = [fwd]\n",
    "  primer_log[i + \"rev\"] = [rev] \n",
    "  continue\n",
    "\n",
    "\n",
    "\n",
    "##print(\"You have finished designing your primers!\")\n",
    "\n",
    "df_primers = pd.DataFrame.from_dict(primer_dictionary, orient='index') ##create a dataframe from the dictionary\n",
    "print(df_primers) ##print the dataframe\n",
    "df_log = pd.DataFrame.from_dict(primer_log, orient='index')\n",
    "\n",
    "\n",
    "timestr = time.strftime(\"%Y%m%d-%H%M%S\") ##operation to print file name with date and time\n",
    "df_primers.to_csv('primers' + timestr + '.csv')\n",
    "df_log.to_csv('primer_log' + timestr + '.csv')\n",
    "\n",
    "\n",
    "\n",
    "  \n"
   ]
  }
 ],
 "metadata": {
  "kernelspec": {
   "display_name": "Python 3",
   "language": "python",
   "name": "python3"
  },
  "language_info": {
   "codemirror_mode": {
    "name": "ipython",
    "version": 3
   },
   "file_extension": ".py",
   "mimetype": "text/x-python",
   "name": "python",
   "nbconvert_exporter": "python",
   "pygments_lexer": "ipython3",
   "version": "3.10.12"
  }
 },
 "nbformat": 4,
 "nbformat_minor": 2
}
