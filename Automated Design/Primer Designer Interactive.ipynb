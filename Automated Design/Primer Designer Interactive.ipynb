{
 "cells": [
  {
   "cell_type": "code",
   "execution_count": 5,
   "metadata": {},
   "outputs": [
    {
     "name": "stdout",
     "output_type": "stream",
     "text": [
      "Requirement already satisfied: primers in c:\\users\\kodyk\\appdata\\local\\packages\\pythonsoftwarefoundation.python.3.11_qbz5n2kfra8p0\\localcache\\local-packages\\python311\\site-packages (0.5.4)\n",
      "Requirement already satisfied: seqfold>=0.7.3 in c:\\users\\kodyk\\appdata\\local\\packages\\pythonsoftwarefoundation.python.3.11_qbz5n2kfra8p0\\localcache\\local-packages\\python311\\site-packages (from primers) (0.7.17)\n",
      "Note: you may need to restart the kernel to use updated packages.\n"
     ]
    },
    {
     "name": "stderr",
     "output_type": "stream",
     "text": [
      "\n",
      "[notice] A new release of pip is available: 23.2.1 -> 23.3.2\n",
      "[notice] To update, run: C:\\Users\\kodyk\\AppData\\Local\\Microsoft\\WindowsApps\\PythonSoftwareFoundation.Python.3.11_qbz5n2kfra8p0\\python.exe -m pip install --upgrade pip\n"
     ]
    },
    {
     "name": "stdout",
     "output_type": "stream",
     "text": [
      "Requirement already satisfied: biopython in c:\\users\\kodyk\\appdata\\local\\packages\\pythonsoftwarefoundation.python.3.11_qbz5n2kfra8p0\\localcache\\local-packages\\python311\\site-packages (1.81)\n",
      "Requirement already satisfied: numpy in c:\\users\\kodyk\\appdata\\local\\packages\\pythonsoftwarefoundation.python.3.11_qbz5n2kfra8p0\\localcache\\local-packages\\python311\\site-packages (from biopython) (1.26.2)\n",
      "Note: you may need to restart the kernel to use updated packages.\n"
     ]
    },
    {
     "name": "stderr",
     "output_type": "stream",
     "text": [
      "\n",
      "[notice] A new release of pip is available: 23.2.1 -> 23.3.2\n",
      "[notice] To update, run: C:\\Users\\kodyk\\AppData\\Local\\Microsoft\\WindowsApps\\PythonSoftwareFoundation.Python.3.11_qbz5n2kfra8p0\\python.exe -m pip install --upgrade pip\n"
     ]
    },
    {
     "name": "stdout",
     "output_type": "stream",
     "text": [
      "Requirement already satisfied: pandas in c:\\users\\kodyk\\appdata\\local\\packages\\pythonsoftwarefoundation.python.3.11_qbz5n2kfra8p0\\localcache\\local-packages\\python311\\site-packages (2.1.4)\n",
      "Requirement already satisfied: numpy<2,>=1.23.2 in c:\\users\\kodyk\\appdata\\local\\packages\\pythonsoftwarefoundation.python.3.11_qbz5n2kfra8p0\\localcache\\local-packages\\python311\\site-packages (from pandas) (1.26.2)\n",
      "Requirement already satisfied: python-dateutil>=2.8.2 in c:\\users\\kodyk\\appdata\\local\\packages\\pythonsoftwarefoundation.python.3.11_qbz5n2kfra8p0\\localcache\\local-packages\\python311\\site-packages (from pandas) (2.8.2)\n",
      "Requirement already satisfied: pytz>=2020.1 in c:\\users\\kodyk\\appdata\\local\\packages\\pythonsoftwarefoundation.python.3.11_qbz5n2kfra8p0\\localcache\\local-packages\\python311\\site-packages (from pandas) (2023.3.post1)\n",
      "Requirement already satisfied: tzdata>=2022.1 in c:\\users\\kodyk\\appdata\\local\\packages\\pythonsoftwarefoundation.python.3.11_qbz5n2kfra8p0\\localcache\\local-packages\\python311\\site-packages (from pandas) (2023.3)\n",
      "Requirement already satisfied: six>=1.5 in c:\\users\\kodyk\\appdata\\local\\packages\\pythonsoftwarefoundation.python.3.11_qbz5n2kfra8p0\\localcache\\local-packages\\python311\\site-packages (from python-dateutil>=2.8.2->pandas) (1.16.0)\n",
      "Note: you may need to restart the kernel to use updated packages.\n"
     ]
    },
    {
     "name": "stderr",
     "output_type": "stream",
     "text": [
      "\n",
      "[notice] A new release of pip is available: 23.2.1 -> 23.3.2\n",
      "[notice] To update, run: C:\\Users\\kodyk\\AppData\\Local\\Microsoft\\WindowsApps\\PythonSoftwareFoundation.Python.3.11_qbz5n2kfra8p0\\python.exe -m pip install --upgrade pip\n"
     ]
    }
   ],
   "source": [
    "#@title First install the primers package.\n",
    "\n",
    "%pip install primers\n",
    "%pip install biopython \n",
    "%pip install pandas\n",
    "\n",
    "\n",
    "import primers\n",
    "import Bio\n",
    "import pandas as pd\n",
    "import time\n"
   ]
  },
  {
   "cell_type": "code",
   "execution_count": 10,
   "metadata": {},
   "outputs": [
    {
     "name": "stdout",
     "output_type": "stream",
     "text": [
      "{'eef2fwd': ['TATAGGATCCATGATGGTTAACTTTACCGTGGACCAGA'], 'eef2rev': ['TATACTCGAGCTACAGCTTATCCAGGAAGTTGTCC']}\n",
      "{'eef2fwd': ['TATAGGATCCATGATGGTTAACTTTACCGTGGACCAGA'], 'eef2rev': ['TATACTCGAGCTACAGCTTATCCAGGAAGTTGTCC'], 'twofwd': ['TATAGGATCCATGATGGTTAACTTTACCGTGGACCAGA'], 'tworev': ['TATACTCGAGCTAATCTTCCTCCAGGTCCTTCAG']}\n",
      "You have finished designing your primers!\n",
      "                                              0\n",
      "eef2fwd  TATAGGATCCATGATGGTTAACTTTACCGTGGACCAGA\n",
      "eef2rev     TATACTCGAGCTACAGCTTATCCAGGAAGTTGTCC\n",
      "twofwd   TATAGGATCCATGATGGTTAACTTTACCGTGGACCAGA\n",
      "tworev       TATACTCGAGCTAATCTTCCTCCAGGTCCTTCAG\n"
     ]
    }
   ],
   "source": [
    "\n",
    "from primers import create\n",
    "from Bio.Seq import Seq\n",
    "from pandas import DataFrame, read_csv\n",
    "\n",
    "\n",
    "\n",
    "\n",
    "primer_dictionary = {} ##create a dictionary to store the primers in\n",
    "primer_log = {}\n",
    "\n",
    "primer_name = str(input(\"Please Enter A Name For Your Primer!, type DONE to finish\")) ##ask the user to enter a name for the primer\n",
    "while primer_name !=\"DONE\": ##while the user has not entered DONE\n",
    "\n",
    "  sequence_input =  str(input(\"Please Upload A Sequence!\")) \n",
    "  if sequence_input == '':\n",
    "    print(\"Please Upload A Sequence!\")\n",
    "\n",
    "  prefix = str(input(\"Please Enter A Forward Region!\"))\n",
    "  suffix = str(input(\"Please Enter A Reverse Region!\"))\n",
    "  revseq = Seq(suffix) ##handle the sequence using the biopython seq class\n",
    "  revseq = revseq.reverse_complement() ##this turns the suffix into the reverse complement before it is appended to the primer\n",
    "\n",
    "  fwd, rev = create(sequence_input,add_fwd=prefix, add_rev=revseq)  ##primers function\n",
    "  primer_dictionary[primer_name + \"fwd\"] = [fwd.seq] ##add the primers to the dictionary\n",
    "  primer_dictionary[primer_name + \"rev\"] = [rev.seq]\n",
    "\n",
    "  primer_log[primer_name + \"fwd\"] = [fwd]\n",
    "  primer_log[primer_name + \"rev\"] = [rev] \n",
    "\n",
    "  print(primer_dictionary) ##print the dictionary\n",
    "\n",
    "  primer_name = str(input(\"Please Enter A Name For Your Primer!, type DONE to finish\")) ##ask the user to enter a name for the primer\n",
    "\n",
    "  continue ##continue the loop\n",
    "print(\"You have finished designing your primers!\")\n",
    "\n",
    "df_primers = pd.DataFrame.from_dict(primer_dictionary, orient='index') ##create a dataframe from the dictionary\n",
    "print(df_primers) ##print the dataframe\n",
    "df_log = pd.DataFrame.from_dict(primer_log, orient='index')\n",
    "\n",
    "#output to csv modules\n",
    "timestr = time.strftime(\"%Y%m%d-%H%M%S\") ##operation to print file name with date and time\n",
    "df_primers.to_csv(/Outputs/'primers' + timestr + '.csv')\n",
    "df_log.to_csv(/Outputs/'primer_log' + timestr + '.csv')\n",
    "\n",
    " \n",
    "\n",
    "  \n"
   ]
  },
  {
   "cell_type": "code",
   "execution_count": null,
   "metadata": {},
   "outputs": [],
   "source": [
    "# @title Run restriction digest analysis:\n",
    "\n",
    "from Bio.Seq import Seq\n",
    "from Bio.Restriction import *\n",
    "restriction_set = Seq(sequence_input)\n",
    "fwd_restriction_seq = Seq(prefix)\n",
    "rev_restriction_seq = Seq(suffix)\n",
    "restrictions_seq = Analysis(AllEnzymes, restriction_set, linear = True)\n",
    "restrictions_fwd = Analysis(AllEnzymes, fwd_restriction_seq, linear = True)\n",
    "restrictions_rev = Analysis(AllEnzymes, rev_restriction_seq, linear = True)\n",
    "\n",
    "\n",
    "print('Sequence restriction digest analysis:')\n",
    "restrictions_seq.print_that()\n",
    "\n",
    "print('Fwd primer restriction digest analysis:')\n",
    "restrictions_fwd.print_that()\n",
    "\n",
    "print('Rev primer restriction digest analysis:')\n",
    "restrictions_rev.print_that()\n",
    " "
   ]
  }
 ],
 "metadata": {
  "kernelspec": {
   "display_name": "Python 3",
   "language": "python",
   "name": "python3"
  },
  "language_info": {
   "codemirror_mode": {
    "name": "ipython",
    "version": 3
   },
   "file_extension": ".py",
   "mimetype": "text/x-python",
   "name": "python",
   "nbconvert_exporter": "python",
   "pygments_lexer": "ipython3",
   "version": "3.11.7"
  }
 },
 "nbformat": 4,
 "nbformat_minor": 2
}
