{
 "cells": [
  {
   "cell_type": "code",
   "execution_count": 1,
   "metadata": {},
   "outputs": [
    {
     "name": "stdout",
     "output_type": "stream",
     "text": [
      "Requirement already satisfied: primers in c:\\users\\kodyk\\appdata\\local\\packages\\pythonsoftwarefoundation.python.3.11_qbz5n2kfra8p0\\localcache\\local-packages\\python311\\site-packages (0.5.4)\n",
      "Requirement already satisfied: seqfold>=0.7.3 in c:\\users\\kodyk\\appdata\\local\\packages\\pythonsoftwarefoundation.python.3.11_qbz5n2kfra8p0\\localcache\\local-packages\\python311\\site-packages (from primers) (0.7.17)\n",
      "Note: you may need to restart the kernel to use updated packages.\n"
     ]
    },
    {
     "name": "stderr",
     "output_type": "stream",
     "text": [
      "\n",
      "[notice] A new release of pip is available: 24.0 -> 24.2\n",
      "[notice] To update, run: C:\\Users\\kodyk\\AppData\\Local\\Microsoft\\WindowsApps\\PythonSoftwareFoundation.Python.3.11_qbz5n2kfra8p0\\python.exe -m pip install --upgrade pip\n"
     ]
    },
    {
     "name": "stdout",
     "output_type": "stream",
     "text": [
      "Requirement already satisfied: biopython in c:\\users\\kodyk\\appdata\\local\\packages\\pythonsoftwarefoundation.python.3.11_qbz5n2kfra8p0\\localcache\\local-packages\\python311\\site-packages (1.81)\n",
      "Requirement already satisfied: numpy in c:\\users\\kodyk\\appdata\\local\\packages\\pythonsoftwarefoundation.python.3.11_qbz5n2kfra8p0\\localcache\\local-packages\\python311\\site-packages (from biopython) (1.26.2)\n",
      "Note: you may need to restart the kernel to use updated packages.\n"
     ]
    },
    {
     "name": "stderr",
     "output_type": "stream",
     "text": [
      "\n",
      "[notice] A new release of pip is available: 24.0 -> 24.2\n",
      "[notice] To update, run: C:\\Users\\kodyk\\AppData\\Local\\Microsoft\\WindowsApps\\PythonSoftwareFoundation.Python.3.11_qbz5n2kfra8p0\\python.exe -m pip install --upgrade pip\n"
     ]
    },
    {
     "name": "stdout",
     "output_type": "stream",
     "text": [
      "Requirement already satisfied: pandas in c:\\users\\kodyk\\appdata\\local\\packages\\pythonsoftwarefoundation.python.3.11_qbz5n2kfra8p0\\localcache\\local-packages\\python311\\site-packages (2.1.4)\n",
      "Requirement already satisfied: numpy<2,>=1.23.2 in c:\\users\\kodyk\\appdata\\local\\packages\\pythonsoftwarefoundation.python.3.11_qbz5n2kfra8p0\\localcache\\local-packages\\python311\\site-packages (from pandas) (1.26.2)\n",
      "Requirement already satisfied: python-dateutil>=2.8.2 in c:\\users\\kodyk\\appdata\\local\\packages\\pythonsoftwarefoundation.python.3.11_qbz5n2kfra8p0\\localcache\\local-packages\\python311\\site-packages (from pandas) (2.8.2)\n",
      "Requirement already satisfied: pytz>=2020.1 in c:\\users\\kodyk\\appdata\\local\\packages\\pythonsoftwarefoundation.python.3.11_qbz5n2kfra8p0\\localcache\\local-packages\\python311\\site-packages (from pandas) (2023.3.post1)\n",
      "Requirement already satisfied: tzdata>=2022.1 in c:\\users\\kodyk\\appdata\\local\\packages\\pythonsoftwarefoundation.python.3.11_qbz5n2kfra8p0\\localcache\\local-packages\\python311\\site-packages (from pandas) (2023.3)\n",
      "Requirement already satisfied: six>=1.5 in c:\\users\\kodyk\\appdata\\local\\packages\\pythonsoftwarefoundation.python.3.11_qbz5n2kfra8p0\\localcache\\local-packages\\python311\\site-packages (from python-dateutil>=2.8.2->pandas) (1.16.0)\n",
      "Note: you may need to restart the kernel to use updated packages.\n"
     ]
    },
    {
     "name": "stderr",
     "output_type": "stream",
     "text": [
      "\n",
      "[notice] A new release of pip is available: 24.0 -> 24.2\n",
      "[notice] To update, run: C:\\Users\\kodyk\\AppData\\Local\\Microsoft\\WindowsApps\\PythonSoftwareFoundation.Python.3.11_qbz5n2kfra8p0\\python.exe -m pip install --upgrade pip\n"
     ]
    }
   ],
   "source": [
    "#@title First install the primers package.\n",
    "\n",
    "%pip install primers\n",
    "%pip install biopython \n",
    "%pip install pandas\n",
    "\n",
    "\n",
    "import primers\n",
    "import Bio\n",
    "import pandas as pd\n",
    "import time\n"
   ]
  },
  {
   "cell_type": "code",
   "execution_count": 4,
   "metadata": {},
   "outputs": [
    {
     "name": "stdout",
     "output_type": "stream",
     "text": [
      "                                                        Sequence\n",
      "Name                                                            \n",
      "FulllengthFWD  ATGGTTAACTTTACCGTGGACCAGATCCGTGCGATTATGGATAAGA...\n",
      "1to3FWD        ATGGTTAACTTTACCGTGGACCAGATCCGTGCGATTATGGATAAGA...\n",
      "2to4FWD        TATGCGTTTGGTCGTGTTTTCAGCGGCCTGGTTAGCACCGGTCTGA...\n",
      "3to5FWD        CCGGTTGTGCGTGTTGCGGTGGAAGCGAAAAACCCGGCGGACCTGC...\n",
      "You have finished designing your primers!\n",
      "                                             0\n",
      "FulllengthFWDfwd  CTCATGGTTAACTTTACCGTGGACCAGA\n",
      "FulllengthFWDrev    CTCCAGCTTATCCAGGAAGTTGTCCA\n",
      "1to3FWDfwd        CTCATGGTTAACTTTACCGTGGACCAGA\n",
      "1to3FWDrev            CTCATCTTCCTCCAGGTCCTTCAG\n",
      "2to4FWDfwd          CTCTATGCGTTTGGTCGTGTTTTCAG\n",
      "2to4FWDrev                 CTCTTGCGCGGTCAGAACG\n",
      "3to5FWDfwd                 CTCCCGGTTGTGCGTGTTG\n",
      "3to5FWDrev            CTCGCTGTTATCAAACGGGTCACC\n"
     ]
    }
   ],
   "source": [
    "\n",
    "from primers import create\n",
    "from Bio.Seq import Seq\n",
    "from pandas import DataFrame, read_csv\n",
    "import os\n",
    "\n",
    "\n",
    "prefix = str(input(\"Please Enter A Forward Region!\"))\n",
    "suffix = str(input(\"Please Enter A Reverse Region!\"))\n",
    "revseq = Seq(suffix) ##handle the sequence using the biopython seq class\n",
    "revseq = revseq.reverse_complement() ##this turns the suffix into the reverse complement before it is appended to the primer\n",
    "\n",
    "primer_dictionary = {} ##create an empty dictionary\n",
    "primer_log = {} ##create an empty dictionary\n",
    "\n",
    "\n",
    "for file in os.listdir('Automated_Entry_Version\\Input_Files'): ##for each file in the current working directory\n",
    "  if file.endswith(\".csv\"):\n",
    "    file = 'Input_Files/' + file ##set the file to the current file\n",
    "    file = pd.read_csv(file)\n",
    "    file = file.set_index('Name') ##set the index to the name column  \n",
    "    print(file) ##print the data\n",
    "    for i in file.index: ##for each row in the data\n",
    "      sequence_input = file.loc[i, 'Sequence'] ##set the sequence input to the sequence column\n",
    "      fwd,rev = create(sequence_input,add_fwd=prefix, add_rev=revseq) ##primers function\n",
    "\n",
    "      primer_dictionary[i + \"fwd\"] = [fwd.seq] ##add the primers to the dictionary\n",
    "      primer_dictionary[i + \"rev\"] = [rev.seq]\n",
    "\n",
    "      primer_log[i + \"fwd\"] = [fwd]\n",
    "      primer_log[i + \"rev\"] = [rev] \n",
    "  else:\n",
    "    print(\"No CSV files found in directory\")\n",
    "  continue\n",
    "\n",
    "\n",
    "print(\"You have finished designing your primers!\")\n",
    "\n",
    "df_primers = pd.DataFrame.from_dict(primer_dictionary, orient='index') ##create a dataframe from the dictionary\n",
    "print(df_primers) ##print the dataframe\n",
    "df_log = pd.DataFrame.from_dict(primer_log, orient='index')\n",
    "\n",
    "timestr = time.strftime(\"%Y%m%d-%H%M%S\") ##operation to print file name with date and time\n",
    "#put the csv into the Outputs folder\n",
    "df_primers.to_csv(/Automated_Entry_Version/Outputs/'primers' + timestr + '.csv')\n",
    "df_log.to_csv(/Automated_Entry_Version/Outputs/'primer_log' + timestr + '.csv')\n",
    "\n",
    "\n",
    "\n",
    "  \n"
   ]
  }
 ],
 "metadata": {
  "kernelspec": {
   "display_name": "Python 3",
   "language": "python",
   "name": "python3"
  },
  "language_info": {
   "codemirror_mode": {
    "name": "ipython",
    "version": 3
   },
   "file_extension": ".py",
   "mimetype": "text/x-python",
   "name": "python",
   "nbconvert_exporter": "python",
   "pygments_lexer": "ipython3",
   "version": "3.11.9"
  }
 },
 "nbformat": 4,
 "nbformat_minor": 2
}
